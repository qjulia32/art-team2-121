{
 "metadata": {
  "language_info": {
   "codemirror_mode": {
    "name": "ipython",
    "version": 3
   },
   "file_extension": ".py",
   "mimetype": "text/x-python",
   "name": "python",
   "nbconvert_exporter": "python",
   "pygments_lexer": "ipython3",
   "version": "3.8.5-final"
  },
  "orig_nbformat": 2,
  "kernelspec": {
   "name": "Python 3.8.5 64-bit",
   "display_name": "Python 3.8.5 64-bit",
   "metadata": {
    "interpreter": {
     "hash": "98ee303d170eaccbc2d9d9b63f287fd58395cd4f8cf064c051d921d9c53d2e6d"
    }
   }
  }
 },
 "nbformat": 4,
 "nbformat_minor": 2,
 "cells": [
  {
   "cell_type": "code",
   "execution_count": 1,
   "metadata": {},
   "outputs": [
    {
     "output_type": "error",
     "ename": "ModuleNotFoundError",
     "evalue": "No module named &#39;pandas&#39;",
     "traceback": [
      "\u001b[1;31m---------------------------------------------------------------------------\u001b[0m",
      "\u001b[1;31mModuleNotFoundError\u001b[0m                       Traceback (most recent call last)",
      "\u001b[1;32m&lt;ipython-input-1-2f3c9573bf0c&gt;\u001b[0m in \u001b[0;36m&lt;module&gt;\u001b[1;34m\u001b[0m\n\u001b[0;32m      1\u001b[0m \u001b[1;31m# import numpy as np # linear algebra\u001b[0m\u001b[1;33m\u001b[0m\u001b[1;33m\u001b[0m\u001b[1;33m\u001b[0m\u001b[0m\n\u001b[1;32m----&gt; 2\u001b[1;33m \u001b[1;32mimport\u001b[0m \u001b[0mpandas\u001b[0m \u001b[1;32mas\u001b[0m \u001b[0mpd\u001b[0m \u001b[1;31m# data processing, CSV file I/O (e.g. pd.read_csv)\u001b[0m\u001b[1;33m\u001b[0m\u001b[1;33m\u001b[0m\u001b[0m\n\u001b[0m\u001b[0;32m      3\u001b[0m \u001b[1;31m# import seaborn as sns\u001b[0m\u001b[1;33m\u001b[0m\u001b[1;33m\u001b[0m\u001b[1;33m\u001b[0m\u001b[0m\n\u001b[0;32m      4\u001b[0m \u001b[1;31m# import matplotlib.pyplot as plt\u001b[0m\u001b[1;33m\u001b[0m\u001b[1;33m\u001b[0m\u001b[1;33m\u001b[0m\u001b[0m\n\u001b[0;32m      5\u001b[0m \u001b[1;31m# import cv2\u001b[0m\u001b[1;33m\u001b[0m\u001b[1;33m\u001b[0m\u001b[1;33m\u001b[0m\u001b[0m\n",
      "\u001b[1;31mModuleNotFoundError\u001b[0m: No module named &#39;pandas&#39;"
     ]
    }
   ],
   "source": [
    "# import numpy as np # linear algebra\n",
    "import pandas as pd # data processing, CSV file I/O (e.g. pd.read_csv)\n",
    "# import seaborn as sns\n",
    "# import matplotlib.pyplot as plt\n",
    "# import cv2\n",
    "# import shutil\n",
    "\n",
    "# classes = ['train_1', 'train_info.csv']\n",
    "# path = Path('data/art')\n",
    "\n",
    "# with zipfile.ZipFile(path/'train_1.zip', 'r') as zip_ref:\n",
    "#     zip_ref.extractall(path/'train_data')\n",
    "my_path = Path(\"C:/Users/qjuli/Downloads/train_1\")\n",
    "import os\n",
    "for dirname, _, filenames in os.walk(my_path):\n",
    "    print(dirname)\n",
    "    break\n",
    "    \n",
    "    for filename in filenames:\n",
    "        os.path.join(dirname, filename)\n",
    "        \n",
    "# returns file path from the train.zip\n",
    "def imgPath(num):\n",
    "    path = \"C:/Users/qjuli/Downloads/train_1\" + num\n",
    "    return path\n",
    "\n",
    "# prints out image from filename column\n",
    "def printImg(num):\n",
    "    path = imgPath(num)\n",
    "    print(path)\n",
    "    plt.figure(figsize=(12,12))\n",
    "    plt.subplot(1,2,1)\n",
    "    img = cv2.imread(path)\n",
    "    imgplot = plt.imshow(img)\n",
    "    \n",
    "    plt.show()"
   ]
  },
  {
   "cell_type": "code",
   "execution_count": null,
   "metadata": {},
   "outputs": [],
   "source": [
    "# import train info along with removing art without any style\n",
    "path = Path('data/art')\n",
    "pbn = pd.read_csv(path/'train_info.csv')\n",
    "pbn = pbn.fillna(np.nan)\n",
    "pbn.drop(labels = [\"title\",\"genre\",\"date\",\"artist\"], axis=1, inplace=True)\n",
    "pbn = pbn.dropna(how='any',axis=0)"
   ]
  },
  {
   "cell_type": "code",
   "execution_count": null,
   "metadata": {},
   "outputs": [],
   "source": [
    "stylesDict = {}\n",
    "\n",
    "for index, row in pbn.iterrows():\n",
    "    if row[\"style\"] in stylesDict:\n",
    "        stylesDict[row[\"style\"]] = stylesDict[row[\"style\"]] + 1\n",
    "    else:\n",
    "        stylesDict[row[\"style\"]] = 1\n",
    "\n",
    "# removing unneeded images from the data in a better way\n",
    "stylesToKeep = []\n",
    "for x in stylesDict:\n",
    "    if stylesDict[x] > 1000:\n",
    "        stylesToKeep.append(x)\n",
    "for index, row in pbn.iterrows():\n",
    "    if not row[\"style\"] in stylesToKeep:\n",
    "        pbn.drop(index, inplace=True)"
   ]
  },
  {
   "cell_type": "code",
   "execution_count": null,
   "metadata": {},
   "outputs": [],
   "source": [
    "# Goal: basically put all the images of the same style into a folder\n",
    "\n",
    "stylesNumDict = {}\n",
    "\n",
    "for index, row in pbn.iterrows():\n",
    "    if row[\"style\"] in stylesNumDict:\n",
    "        stylesNumDict[row[\"style\"]] += [row[\"filename\"]]\n",
    "    else:\n",
    "        stylesNumDict[row[\"style\"]] = [row[\"filename\"]]\n",
    "\n",
    "print(stylesNumDict)"
   ]
  },
  {
   "cell_type": "code",
   "execution_count": null,
   "metadata": {},
   "outputs": [],
   "source": [
    "import os, os.path, shutil\n",
    "\n",
    "path = Path('data/art/train_1/')\n",
    "\n",
    "with zipfile.ZipFile(folder_path, 'r') as zip_ref:\n",
    "    zip_ref.extractall('data/art/train_1')\n",
    "\n",
    "images = [f for f in os.listdir(path) if os.path.isfile(os.path.join(folder_path, f))]\n",
    "\n",
    "\n",
    "\n",
    "print(images)\n",
    "\n",
    "for style in stylesNumDict.keys():\n",
    "    folder_path = Path('data/art/styles/'+style)\n",
    "    if not os.path.exists(folder_path):\n",
    "        os.makedirs(new_path)\n",
    "    for image in stylesNumDict[style]:\n",
    "        img_old_path = path/image\n",
    "        img_new_path = folder_path/image\n",
    "        shutil.move(img_old_path, img_new_path)"
   ]
  },
  {
   "cell_type": "code",
   "execution_count": null,
   "metadata": {},
   "outputs": [],
   "source": [
    "# remove corrupted files\n",
    "\n",
    "import os\n",
    "\n",
    "num_skipped = 0\n",
    "for folder_name in stylesNumDict.keys():\n",
    "    folder_path = os.path.join('data/art/styles\", folder_name)\n",
    "    for fname in os.listdir(folder_path):\n",
    "        fpath = os.path.join(folder_path, fname)\n",
    "        try:\n",
    "            fobj = open(fpath, \"rb\")\n",
    "            is_jfif = tf.compat.as_bytes(\"JFIF\") in fobj.peek(10)\n",
    "        finally:\n",
    "            fobj.close()\n",
    "\n",
    "        if not is_jfif:\n",
    "            num_skipped += 1\n",
    "            # Delete corrupted image\n",
    "            os.remove(fpath)\n",
    "\n",
    "print(\"Deleted %d images\" % num_skipped)"
   ]
  },
  {
   "cell_type": "code",
   "execution_count": null,
   "metadata": {},
   "outputs": [],
   "source": [
    "# generate a dataset\n",
    "image_size = (180, 180)\n",
    "batch_size = 32\n",
    "\n",
    "train_ds = tf.keras.preprocessing.image_dataset_from_directory(\n",
    "    \"data/art/styles\",\n",
    "    validation_split=0.2,\n",
    "    subset=\"training\",\n",
    "    seed=1337,\n",
    "    image_size=image_size,\n",
    "    batch_size=batch_size,\n",
    ")\n",
    "val_ds = tf.keras.preprocessing.image_dataset_from_directory(\n",
    "    \"data/art/styles\",\n",
    "    validation_split=0.2,\n",
    "    subset=\"validation\",\n",
    "    seed=1337,\n",
    "    image_size=image_size,\n",
    "    batch_size=batch_size,\n",
    ")\n",
    "test_ds = tf.keras.preprocessing.image_dataset_from_directory(\n",
    "    \"data/art/styles\",\n",
    "    validation_split=0.2,\n",
    "    subset=\"test\",\n",
    "    seed=1337,\n",
    "    image_size=image_size,\n",
    "    batch_size=batch_size,\n",
    ")"
   ]
  }
 ]
}