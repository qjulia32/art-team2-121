{
  "nbformat": 4,
  "nbformat_minor": 0,
  "metadata": {
    "colab": {
      "name": "StyleToTimePeriod.ipynb",
      "provenance": [],
      "collapsed_sections": [],
      "authorship_tag": "ABX9TyN8Tw2sOejQJ/WBc2ixWWMj",
      "include_colab_link": true
    },
    "kernelspec": {
      "name": "python3",
      "display_name": "Python 3"
    }
  },
  "cells": [
    {
      "cell_type": "markdown",
      "metadata": {
        "id": "view-in-github",
        "colab_type": "text"
      },
      "source": [
        "<a href=\"https://colab.research.google.com/github/qjulia32/art-team2-121/blob/backend%2Fresnet/StyleToTimePeriod.ipynb\" target=\"_parent\"><img src=\"https://colab.research.google.com/assets/colab-badge.svg\" alt=\"Open In Colab\"/></a>"
      ]
    },
    {
      "cell_type": "code",
      "metadata": {
        "id": "y-WwqUk7dWsZ"
      },
      "source": [
        "def style_to_time(prediction):\n",
        "  if prediction == \"Abstract\":\n",
        "    print(\"1950s-present\")\n",
        "  elif prediction == \"Abstract Expressionism\" || prediction == \"Magic Realism\":\n",
        "    print(\"1940s-1950s\")\n",
        "  elif prediction == \"Art Informel\":\n",
        "    print(\"1943-1950s\")\n",
        "  elif prediction == \"Art Nouveau (Modern)\":\n",
        "    print(\"1890-1910\")\n",
        "  elif prediction == \"Baroque\":\n",
        "    print(\"1600-1700s\")\n",
        "  elif prediction == \"Cubism\":\n",
        "    print(\"1908-1912\")\n",
        "  elif prediction == \"Early Renaissance\":\n",
        "    print(\"1280-1400\")\n",
        "  elif prediction == \"Expressionism\":\n",
        "    print(\"1905-1920\")\n",
        "  elif prediction == \"High Renaissance\":\n",
        "    print(\"1490s-1527\")\n",
        "  elif prediction == \"Impressionism\":\n",
        "    print(\"1867-1886\")\n",
        "  elif prediction == \"Mannerism (Late Renaissance)\":\n",
        "    print(\"1520s-1590s\")\n",
        "  elif prediction == \"Naïve Art (Primitivism)\":\n",
        "    print(\"1300s-1400s\")\n",
        "  elif prediction == \"Neoclassicism\":\n",
        "    print(\"1760s-1850s\")\n",
        "  elif prediction == \"Northern Renaissance\":\n",
        "    print(\"1430-1580\")\n",
        "  elif prediction == \"Post-Impressionism\":\n",
        "    print(\"1886-1905\")\n",
        "  elif prediction == \"Realism\":\n",
        "    print(\"1830s-1880s\")\n",
        "  elif prediction == \"Rococo\":\n",
        "    print(\"1740s-1770s\")\n",
        "  elif prediction == \"Romanticism\":\n",
        "    print(\"1800-1850\")\n",
        "  elif prediction == \"Surrealism\":\n",
        "    print(\"1924-1966\")\n",
        "  elif prediction == \"Symbolism\":\n",
        "    print(\"1886-1900\")\n",
        "  elif prediction == \"Ukiyo-e\":\n",
        "    print(\"1615-1868\")\n",
        "  else:\n",
        "    print(\"An error has occurred. Please try again.\")"
      ],
      "execution_count": null,
      "outputs": []
    }
  ]
}
