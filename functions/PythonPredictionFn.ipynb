{
  "nbformat": 4,
  "nbformat_minor": 0,
  "metadata": {
    "colab": {
      "name": "PythonPredictionFn.ipynb",
      "provenance": [],
      "authorship_tag": "ABX9TyO69bvBGRDQ3lGv7E4POvI2",
      "include_colab_link": true
    },
    "kernelspec": {
      "name": "python3",
      "display_name": "Python 3"
    }
  },
  "cells": [
    {
      "cell_type": "markdown",
      "metadata": {
        "id": "view-in-github",
        "colab_type": "text"
      },
      "source": [
        "<a href=\"https://colab.research.google.com/github/qjulia32/art-team2-121/blob/backend%2Fresnet/PythonPredictionFn.ipynb\" target=\"_parent\"><img src=\"https://colab.research.google.com/assets/colab-badge.svg\" alt=\"Open In Colab\"/></a>"
      ]
    },
    {
      "cell_type": "code",
      "metadata": {
        "id": "RzaLlQYgHzQH",
        "outputId": "cd88bca3-5525-4a02-a7d5-d8ede526c883",
        "colab": {
          "base_uri": "https://localhost:8080/"
        }
      },
      "source": [
        "# assuming input is nested dictionary!\n",
        "# based on output given by wireframe, lmk if I need to change something\n",
        "\n",
        "def pred_with_conf(prediction): \n",
        "  value = prediction['category']  #store prediction\n",
        "  print(value)\n",
        "  print(\"Percent Confidence: \", prediction['probs'][value]*100,\"%\")\n",
        "\n",
        "# test case\n",
        "prediction = {'category':'Post-Impressionism', 'probs': {'Post-Impressionism': 0.35, 'Abstract': 0.65}}\n",
        "pred_with_conf(prediction)"
      ],
      "execution_count": 10,
      "outputs": [
        {
          "output_type": "stream",
          "text": [
            "Post-Impressionism\n",
            "Percent Confidence:  35.0 %\n"
          ],
          "name": "stdout"
        }
      ]
    }
  ]
}